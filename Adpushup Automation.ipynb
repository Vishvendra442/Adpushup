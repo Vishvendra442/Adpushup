{
 "cells": [
  {
   "cell_type": "code",
   "execution_count": 1,
   "metadata": {},
   "outputs": [],
   "source": [
    "import selenium\n",
    "import pandas as pd\n",
    "from selenium import webdriver\n",
    "from bs4 import BeautifulSoup\n",
    "import numpy as np\n",
    "import time\n",
    "import seaborn as sns\n",
    "import matplotlib.pyplot as plt\n",
    "import warnings\n",
    "warnings.filterwarnings('ignore')\n",
    "from selenium.common.exceptions import StaleElementReferenceException, NoSuchElementException"
   ]
  },
  {
   "cell_type": "markdown",
   "metadata": {},
   "source": [
    "# Ad.Txt"
   ]
  },
  {
   "cell_type": "code",
   "execution_count": 2,
   "metadata": {},
   "outputs": [],
   "source": [
    "driver=webdriver.Chrome()"
   ]
  },
  {
   "cell_type": "code",
   "execution_count": 3,
   "metadata": {},
   "outputs": [],
   "source": [
    "driver.get('https://www.adstxt.com/')"
   ]
  },
  {
   "cell_type": "code",
   "execution_count": 4,
   "metadata": {},
   "outputs": [],
   "source": [
    "comp = {'Name':['Sortable','Freestar','Snigle Web','Publift','Monumetric','YieldBird','Automatad','AdThrive'],\n",
    "       'PUB':['pub-3153065230153281','pub-3605257360853185','pub-4276969157128104','pub-5884294479391638','pub-3944954862316283',\n",
    "             'pub-8241049497608997','pub-8648432769746717','pub-8501674430909082']}\n",
    "comp = pd.DataFrame(comp)"
   ]
  },
  {
   "cell_type": "code",
   "execution_count": 5,
   "metadata": {},
   "outputs": [
    {
     "data": {
      "text/html": [
       "<div>\n",
       "<style scoped>\n",
       "    .dataframe tbody tr th:only-of-type {\n",
       "        vertical-align: middle;\n",
       "    }\n",
       "\n",
       "    .dataframe tbody tr th {\n",
       "        vertical-align: top;\n",
       "    }\n",
       "\n",
       "    .dataframe thead th {\n",
       "        text-align: right;\n",
       "    }\n",
       "</style>\n",
       "<table border=\"1\" class=\"dataframe\">\n",
       "  <thead>\n",
       "    <tr style=\"text-align: right;\">\n",
       "      <th></th>\n",
       "      <th>Name</th>\n",
       "      <th>PUB</th>\n",
       "    </tr>\n",
       "  </thead>\n",
       "  <tbody>\n",
       "    <tr>\n",
       "      <th>0</th>\n",
       "      <td>Sortable</td>\n",
       "      <td>pub-3153065230153281</td>\n",
       "    </tr>\n",
       "    <tr>\n",
       "      <th>1</th>\n",
       "      <td>Freestar</td>\n",
       "      <td>pub-3605257360853185</td>\n",
       "    </tr>\n",
       "    <tr>\n",
       "      <th>2</th>\n",
       "      <td>Snigle Web</td>\n",
       "      <td>pub-4276969157128104</td>\n",
       "    </tr>\n",
       "    <tr>\n",
       "      <th>3</th>\n",
       "      <td>Publift</td>\n",
       "      <td>pub-5884294479391638</td>\n",
       "    </tr>\n",
       "    <tr>\n",
       "      <th>4</th>\n",
       "      <td>Monumetric</td>\n",
       "      <td>pub-3944954862316283</td>\n",
       "    </tr>\n",
       "    <tr>\n",
       "      <th>5</th>\n",
       "      <td>YieldBird</td>\n",
       "      <td>pub-8241049497608997</td>\n",
       "    </tr>\n",
       "    <tr>\n",
       "      <th>6</th>\n",
       "      <td>Automatad</td>\n",
       "      <td>pub-8648432769746717</td>\n",
       "    </tr>\n",
       "    <tr>\n",
       "      <th>7</th>\n",
       "      <td>AdThrive</td>\n",
       "      <td>pub-8501674430909082</td>\n",
       "    </tr>\n",
       "  </tbody>\n",
       "</table>\n",
       "</div>"
      ],
      "text/plain": [
       "         Name                   PUB\n",
       "0    Sortable  pub-3153065230153281\n",
       "1    Freestar  pub-3605257360853185\n",
       "2  Snigle Web  pub-4276969157128104\n",
       "3     Publift  pub-5884294479391638\n",
       "4  Monumetric  pub-3944954862316283\n",
       "5   YieldBird  pub-8241049497608997\n",
       "6   Automatad  pub-8648432769746717\n",
       "7    AdThrive  pub-8501674430909082"
      ]
     },
     "execution_count": 5,
     "metadata": {},
     "output_type": "execute_result"
    }
   ],
   "source": [
    "comp"
   ]
  },
  {
   "cell_type": "code",
   "execution_count": 6,
   "metadata": {},
   "outputs": [
    {
     "name": "stdout",
     "output_type": "stream",
     "text": [
      "Scrapping Sortable  for PUB Id = pub-3153065230153281\n",
      "Scrapping Freestar  for PUB Id = pub-3605257360853185\n",
      "Scrapping Snigle Web  for PUB Id = pub-4276969157128104\n",
      "Scrapping Publift  for PUB Id = pub-5884294479391638\n",
      "Scrapping Monumetric  for PUB Id = pub-3944954862316283\n",
      "Scrapping YieldBird  for PUB Id = pub-8241049497608997\n",
      "Scrapping Automatad  for PUB Id = pub-8648432769746717\n",
      "Scrapping AdThrive  for PUB Id = pub-8501674430909082\n"
     ]
    }
   ],
   "source": [
    "er = []\n",
    "name = []\n",
    "\n",
    "for i, j in zip(comp['PUB'], comp['Name']):\n",
    "    driver.get('https://www.adstxt.com/publisher-ids/' + str(i))\n",
    "    pg1 = driver.find_element_by_css_selector('#spark-app > main > div > div.mb-5 > nav > ul > li:Nth-Last-Child(2)> a' ).text\n",
    "    pg = int(pg1)+1\n",
    "    num = np.arange(1,pg)\n",
    "    print('Scrapping',j,' for PUB Id =',i)\n",
    "    try:\n",
    "        for page in num:\n",
    "            html=driver.page_source\n",
    "            df=pd.read_html(html)\n",
    "            df = df[0]\n",
    "            a = df.drop(df.columns[[0, 2, 2]], axis = 1)\n",
    "            b = df.shape[0]\n",
    "            l1 = df['Publisher Domain'].tolist()\n",
    "            er.extend(l1)\n",
    "            l2 = [j]*b\n",
    "            name.extend(l2)\n",
    "            driver.find_element_by_css_selector('#spark-app > main > div > div.mb-5 > nav > ul > li:Last-Child> a' ).click()\n",
    "    except NoSuchElementException as e:\n",
    "        pass"
   ]
  },
  {
   "cell_type": "code",
   "execution_count": 7,
   "metadata": {},
   "outputs": [],
   "source": [
    "ds = pd.DataFrame({'Domain' : er ,'Competitor Name' : name})"
   ]
  },
  {
   "cell_type": "markdown",
   "metadata": {},
   "source": [
    "# Publicwww.com"
   ]
  },
  {
   "cell_type": "code",
   "execution_count": 8,
   "metadata": {},
   "outputs": [],
   "source": [
    "df1 = pd.read_csv('AdThrive.csv',header=None)\n",
    "df2 = pd.read_csv('YieldBird.csv',header=None)\n",
    "df3 = pd.read_csv('Sortable.csv',header=None)\n",
    "df4 = pd.read_csv('Publift.csv',header=None)\n",
    "df5 = pd.read_csv('Monumetric.csv',header=None)\n",
    "df6 = pd.read_csv('Freestar.csv',header=None)\n",
    "df7 = pd.read_csv('Automatad.csv',header=None)\n",
    "df8 = pd.read_csv('AndBeyond.csv',header=None)"
   ]
  },
  {
   "cell_type": "code",
   "execution_count": 9,
   "metadata": {},
   "outputs": [],
   "source": [
    "l3 = [df1, df2, df3, df4, df5, df6, df7, df8]\n",
    "l4 = ['AdThrive','YieldBird','Sortable','Publift','Monumetric','Freestar','Automatad','AndBeyond' ]\n",
    "\n",
    "\n",
    "we = []\n",
    "c1 = []\n",
    "\n",
    "for i,j in zip(l3,l4):\n",
    "    i['Domain'] = i[0]\n",
    "    split_d = i['Domain'].str.split(\"/\", expand= True)\n",
    "    split_d = split_d[[2]]\n",
    "    b = split_d.shape[0]\n",
    "    l1 = split_d[2].tolist()\n",
    "    we.extend(l1)\n",
    "    l2 = [j]*b\n",
    "    c1.extend(l2)\n",
    "    \n",
    "ds1 = pd.DataFrame({'Domain' : we ,'Competitor Name' : c1})"
   ]
  },
  {
   "cell_type": "markdown",
   "metadata": {},
   "source": [
    "# JSON"
   ]
  },
  {
   "cell_type": "code",
   "execution_count": 10,
   "metadata": {},
   "outputs": [],
   "source": [
    "df1 = pd.read_csv('ad thrive1.csv')\n",
    "df2 = pd.read_csv('Yieldbird1.csv')\n",
    "df3 = pd.read_csv('Sortable1.csv')\n",
    "df4 = pd.read_csv('Publift1.csv')\n",
    "df5 = pd.read_csv('monumetric1.csv')\n",
    "df6 = pd.read_csv('FREESTAR1.csv')\n",
    "df7 = pd.read_csv('Automatad1.csv')\n",
    "df8 = pd.read_csv('snigle1.csv')\n",
    "df9 = pd.read_csv('andbeyond.media.csv')"
   ]
  },
  {
   "cell_type": "code",
   "execution_count": 11,
   "metadata": {},
   "outputs": [],
   "source": [
    "l4 = [df1, df2, df3, df4, df5, df6, df7, df8, df9]\n",
    "l5 = ['AdThrive','YieldBird','Sortable','Publift','Monumetric','Freestar','Automatad','Snigle Web','AndBeyond' ]\n",
    "\n",
    "jd = []\n",
    "jn = []\n",
    "\n",
    "for i,j in zip(l4,l5):\n",
    "    i= i[['sellers__domain']]\n",
    "    b = i.shape[0]\n",
    "    l1 = i['sellers__domain'].tolist()\n",
    "    jd.extend(l1)\n",
    "    l2 = [j]*b\n",
    "    jn.extend(l2)\n",
    "    \n",
    "ds2 = pd.DataFrame({'Domain' : jd ,'Competitor Name' : jn})"
   ]
  },
  {
   "cell_type": "markdown",
   "metadata": {},
   "source": [
    "# Final Data"
   ]
  },
  {
   "cell_type": "code",
   "execution_count": 12,
   "metadata": {},
   "outputs": [],
   "source": [
    "frames = [ds, ds1, ds2]\n",
    "\n",
    "result = pd.concat(frames,ignore_index=True)\n",
    "result['Domain'] = result['Domain'].str.replace('www.','')"
   ]
  },
  {
   "cell_type": "code",
   "execution_count": 13,
   "metadata": {},
   "outputs": [
    {
     "data": {
      "text/html": [
       "<div>\n",
       "<style scoped>\n",
       "    .dataframe tbody tr th:only-of-type {\n",
       "        vertical-align: middle;\n",
       "    }\n",
       "\n",
       "    .dataframe tbody tr th {\n",
       "        vertical-align: top;\n",
       "    }\n",
       "\n",
       "    .dataframe thead th {\n",
       "        text-align: right;\n",
       "    }\n",
       "</style>\n",
       "<table border=\"1\" class=\"dataframe\">\n",
       "  <thead>\n",
       "    <tr style=\"text-align: right;\">\n",
       "      <th></th>\n",
       "      <th>Domain</th>\n",
       "      <th>Competitor Name</th>\n",
       "    </tr>\n",
       "  </thead>\n",
       "  <tbody>\n",
       "    <tr>\n",
       "      <th>0</th>\n",
       "      <td>1911addicts.com</td>\n",
       "      <td>Sortable</td>\n",
       "    </tr>\n",
       "    <tr>\n",
       "      <th>1</th>\n",
       "      <td>22dollars.com</td>\n",
       "      <td>Sortable</td>\n",
       "    </tr>\n",
       "    <tr>\n",
       "      <th>2</th>\n",
       "      <td>24wrestling.com</td>\n",
       "      <td>Sortable</td>\n",
       "    </tr>\n",
       "    <tr>\n",
       "      <th>3</th>\n",
       "      <td>360tuna.com</td>\n",
       "      <td>Sortable</td>\n",
       "    </tr>\n",
       "    <tr>\n",
       "      <th>4</th>\n",
       "      <td>3dshoots.com</td>\n",
       "      <td>Sortable</td>\n",
       "    </tr>\n",
       "    <tr>\n",
       "      <th>...</th>\n",
       "      <td>...</td>\n",
       "      <td>...</td>\n",
       "    </tr>\n",
       "    <tr>\n",
       "      <th>25487</th>\n",
       "      <td>femalenetwork.com</td>\n",
       "      <td>AndBeyond</td>\n",
       "    </tr>\n",
       "    <tr>\n",
       "      <th>25488</th>\n",
       "      <td>spot.ph</td>\n",
       "      <td>AndBeyond</td>\n",
       "    </tr>\n",
       "    <tr>\n",
       "      <th>25489</th>\n",
       "      <td>cosmo.ph</td>\n",
       "      <td>AndBeyond</td>\n",
       "    </tr>\n",
       "    <tr>\n",
       "      <th>25490</th>\n",
       "      <td>candymag.com</td>\n",
       "      <td>AndBeyond</td>\n",
       "    </tr>\n",
       "    <tr>\n",
       "      <th>25491</th>\n",
       "      <td>seehua.com</td>\n",
       "      <td>AndBeyond</td>\n",
       "    </tr>\n",
       "  </tbody>\n",
       "</table>\n",
       "<p>25492 rows × 2 columns</p>\n",
       "</div>"
      ],
      "text/plain": [
       "                  Domain Competitor Name\n",
       "0        1911addicts.com        Sortable\n",
       "1          22dollars.com        Sortable\n",
       "2        24wrestling.com        Sortable\n",
       "3            360tuna.com        Sortable\n",
       "4           3dshoots.com        Sortable\n",
       "...                  ...             ...\n",
       "25487  femalenetwork.com       AndBeyond\n",
       "25488            spot.ph       AndBeyond\n",
       "25489           cosmo.ph       AndBeyond\n",
       "25490       candymag.com       AndBeyond\n",
       "25491         seehua.com       AndBeyond\n",
       "\n",
       "[25492 rows x 2 columns]"
      ]
     },
     "execution_count": 13,
     "metadata": {},
     "output_type": "execute_result"
    }
   ],
   "source": [
    "result\n"
   ]
  },
  {
   "cell_type": "markdown",
   "metadata": {},
   "source": [
    "# Duplicate"
   ]
  },
  {
   "cell_type": "code",
   "execution_count": 15,
   "metadata": {},
   "outputs": [
    {
     "data": {
      "text/html": [
       "<div>\n",
       "<style scoped>\n",
       "    .dataframe tbody tr th:only-of-type {\n",
       "        vertical-align: middle;\n",
       "    }\n",
       "\n",
       "    .dataframe tbody tr th {\n",
       "        vertical-align: top;\n",
       "    }\n",
       "\n",
       "    .dataframe thead th {\n",
       "        text-align: right;\n",
       "    }\n",
       "</style>\n",
       "<table border=\"1\" class=\"dataframe\">\n",
       "  <thead>\n",
       "    <tr style=\"text-align: right;\">\n",
       "      <th></th>\n",
       "      <th>Domain</th>\n",
       "      <th>Competitor Name</th>\n",
       "    </tr>\n",
       "  </thead>\n",
       "  <tbody>\n",
       "    <tr>\n",
       "      <th>0</th>\n",
       "      <td>1911addicts.com</td>\n",
       "      <td>Sortable</td>\n",
       "    </tr>\n",
       "    <tr>\n",
       "      <th>1</th>\n",
       "      <td>22dollars.com</td>\n",
       "      <td>Sortable</td>\n",
       "    </tr>\n",
       "    <tr>\n",
       "      <th>2</th>\n",
       "      <td>24wrestling.com</td>\n",
       "      <td>Sortable</td>\n",
       "    </tr>\n",
       "    <tr>\n",
       "      <th>3</th>\n",
       "      <td>360tuna.com</td>\n",
       "      <td>Sortable</td>\n",
       "    </tr>\n",
       "    <tr>\n",
       "      <th>4</th>\n",
       "      <td>3dshoots.com</td>\n",
       "      <td>Sortable</td>\n",
       "    </tr>\n",
       "    <tr>\n",
       "      <th>...</th>\n",
       "      <td>...</td>\n",
       "      <td>...</td>\n",
       "    </tr>\n",
       "    <tr>\n",
       "      <th>20582</th>\n",
       "      <td>femalenetwork.com</td>\n",
       "      <td>AndBeyond</td>\n",
       "    </tr>\n",
       "    <tr>\n",
       "      <th>20583</th>\n",
       "      <td>spot.ph</td>\n",
       "      <td>AndBeyond</td>\n",
       "    </tr>\n",
       "    <tr>\n",
       "      <th>20584</th>\n",
       "      <td>cosmo.ph</td>\n",
       "      <td>AndBeyond</td>\n",
       "    </tr>\n",
       "    <tr>\n",
       "      <th>20585</th>\n",
       "      <td>candymag.com</td>\n",
       "      <td>AndBeyond</td>\n",
       "    </tr>\n",
       "    <tr>\n",
       "      <th>20586</th>\n",
       "      <td>seehua.com</td>\n",
       "      <td>AndBeyond</td>\n",
       "    </tr>\n",
       "  </tbody>\n",
       "</table>\n",
       "<p>20587 rows × 2 columns</p>\n",
       "</div>"
      ],
      "text/plain": [
       "                  Domain Competitor Name\n",
       "0        1911addicts.com        Sortable\n",
       "1          22dollars.com        Sortable\n",
       "2        24wrestling.com        Sortable\n",
       "3            360tuna.com        Sortable\n",
       "4           3dshoots.com        Sortable\n",
       "...                  ...             ...\n",
       "20582  femalenetwork.com       AndBeyond\n",
       "20583            spot.ph       AndBeyond\n",
       "20584           cosmo.ph       AndBeyond\n",
       "20585       candymag.com       AndBeyond\n",
       "20586         seehua.com       AndBeyond\n",
       "\n",
       "[20587 rows x 2 columns]"
      ]
     },
     "execution_count": 15,
     "metadata": {},
     "output_type": "execute_result"
    }
   ],
   "source": [
    "result = result.drop_duplicates(ignore_index=True)\n",
    "result = result.dropna()\n",
    "result"
   ]
  },
  {
   "cell_type": "code",
   "execution_count": 17,
   "metadata": {},
   "outputs": [],
   "source": [
    "domain_du = result[result.duplicated('Domain', keep = False)]"
   ]
  },
  {
   "cell_type": "code",
   "execution_count": 26,
   "metadata": {},
   "outputs": [],
   "source": [
    "domain_du = domain_du.sort_values(by=['Domain'],ignore_index = True)"
   ]
  },
  {
   "cell_type": "code",
   "execution_count": 41,
   "metadata": {},
   "outputs": [
    {
     "data": {
      "text/html": [
       "<div>\n",
       "<style scoped>\n",
       "    .dataframe tbody tr th:only-of-type {\n",
       "        vertical-align: middle;\n",
       "    }\n",
       "\n",
       "    .dataframe tbody tr th {\n",
       "        vertical-align: top;\n",
       "    }\n",
       "\n",
       "    .dataframe thead th {\n",
       "        text-align: right;\n",
       "    }\n",
       "</style>\n",
       "<table border=\"1\" class=\"dataframe\">\n",
       "  <thead>\n",
       "    <tr style=\"text-align: right;\">\n",
       "      <th></th>\n",
       "      <th>Domain</th>\n",
       "      <th>Competitor Name</th>\n",
       "    </tr>\n",
       "  </thead>\n",
       "  <tbody>\n",
       "    <tr>\n",
       "      <th>297</th>\n",
       "      <td>heavy.com</td>\n",
       "      <td>Sortable</td>\n",
       "    </tr>\n",
       "    <tr>\n",
       "      <th>14249</th>\n",
       "      <td>heavy.com</td>\n",
       "      <td>AdThrive</td>\n",
       "    </tr>\n",
       "  </tbody>\n",
       "</table>\n",
       "</div>"
      ],
      "text/plain": [
       "          Domain Competitor Name\n",
       "297    heavy.com        Sortable\n",
       "14249  heavy.com        AdThrive"
      ]
     },
     "execution_count": 41,
     "metadata": {},
     "output_type": "execute_result"
    }
   ],
   "source": [
    "a[a['Domain'].values == 'heavy.com']"
   ]
  },
  {
   "cell_type": "code",
   "execution_count": 24,
   "metadata": {},
   "outputs": [],
   "source": [
    "result = result.dropna()"
   ]
  },
  {
   "cell_type": "markdown",
   "metadata": {},
   "source": [
    "# Exporting"
   ]
  },
  {
   "cell_type": "code",
   "execution_count": 25,
   "metadata": {},
   "outputs": [],
   "source": [
    "result.to_csv(\"adpushup_fina_data.csv\")"
   ]
  },
  {
   "cell_type": "code",
   "execution_count": 27,
   "metadata": {},
   "outputs": [],
   "source": [
    "domain_du.to_csv(\"adpushup_Domain.csv\")"
   ]
  },
  {
   "cell_type": "code",
   "execution_count": 30,
   "metadata": {},
   "outputs": [],
   "source": [
    "t = pd.read_csv('GKG Competitor.csv')"
   ]
  },
  {
   "cell_type": "code",
   "execution_count": 39,
   "metadata": {},
   "outputs": [
    {
     "data": {
      "text/plain": [
       "20052"
      ]
     },
     "execution_count": 39,
     "metadata": {},
     "output_type": "execute_result"
    }
   ],
   "source": [
    "t['Website '].nunique()"
   ]
  },
  {
   "cell_type": "code",
   "execution_count": 41,
   "metadata": {},
   "outputs": [
    {
     "name": "stdout",
     "output_type": "stream",
     "text": [
      "YieldBird     9973\n",
      "AdThrive      3648\n",
      "Sortable      2133\n",
      "Monumetric    1810\n",
      "Freestar       880\n",
      "Automatad      666\n",
      "AndBeyond      606\n",
      "Publift        516\n",
      "Snigle Web     348\n",
      "Name: Competiton Live , dtype: int64\n"
     ]
    },
    {
     "data": {
      "text/plain": [
       "(array([0, 1, 2, 3, 4, 5, 6, 7, 8]),\n",
       " [Text(0, 0, 'Sortable'),\n",
       "  Text(1, 0, 'Freestar'),\n",
       "  Text(2, 0, 'Snigle Web'),\n",
       "  Text(3, 0, 'Publift'),\n",
       "  Text(4, 0, 'Monumetric'),\n",
       "  Text(5, 0, 'YieldBird'),\n",
       "  Text(6, 0, 'Automatad'),\n",
       "  Text(7, 0, 'AdThrive'),\n",
       "  Text(8, 0, 'AndBeyond')])"
      ]
     },
     "execution_count": 41,
     "metadata": {},
     "output_type": "execute_result"
    },
    {
     "data": {
      "image/png": "[encoded data removed]",
      "text/plain": [
       "<Figure size 432x288 with 1 Axes>"
      ]
     },
     "metadata": {
      "needs_background": "light"
     },
     "output_type": "display_data"
    }
   ],
   "source": [
    "print(t['Competiton Live '].value_counts())\n",
    "sns.countplot(t['Competiton Live '],palette=\"summer\")\n",
    "plt.xticks(rotation=90)"
   ]
  },
  {
   "cell_type": "code",
   "execution_count": null,
   "metadata": {},
   "outputs": [],
   "source": []
  },
  {
   "cell_type": "code",
   "execution_count": null,
   "metadata": {},
   "outputs": [],
   "source": []
  }
 ],
 "metadata": {
  "kernelspec": {
   "display_name": "Python 3",
   "language": "python",
   "name": "python3"
  },
  "language_info": {
   "codemirror_mode": {
    "name": "ipython",
    "version": 3
   },
   "file_extension": ".py",
   "mimetype": "text/x-python",
   "name": "python",
   "nbconvert_exporter": "python",
   "pygments_lexer": "ipython3",
   "version": "3.8.5"
  }
 },
 "nbformat": 4,
 "nbformat_minor": 4
}
